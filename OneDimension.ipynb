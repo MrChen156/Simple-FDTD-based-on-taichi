{
 "cells": [
  {
   "cell_type": "code",
   "execution_count": 2,
   "metadata": {
    "collapsed": true
   },
   "outputs": [
    {
     "name": "stdout",
     "output_type": "stream",
     "text": [
      "[Taichi] version 1.0.3, llvm 10.0.0, commit fae94a21, osx, python 3.9.6\n",
      "[I 06/16/22 12:26:02.430 17786985] [shell.py:_shell_pop_print@33] Graphical python shell detected, using wrapped sys.stdout\n"
     ]
    }
   ],
   "source": [
    "import taichi as ti\n",
    "import numpy as np\n",
    "import matplotlib.pyplot as plt"
   ]
  },
  {
   "cell_type": "code",
   "execution_count": 3,
   "outputs": [
    {
     "name": "stdout",
     "output_type": "stream",
     "text": [
      "[Taichi] Starting on arch=metal\n"
     ]
    }
   ],
   "source": [
    "ti.init(arch=ti.gpu)"
   ],
   "metadata": {
    "collapsed": false,
    "pycharm": {
     "name": "#%%\n"
    }
   }
  },
  {
   "cell_type": "code",
   "execution_count": 4,
   "outputs": [],
   "source": [
    "# 定义一个一维时变电磁场，用一个field表示对应时刻下的这个场\n",
    "# 场的大小：多少个空间步长\n",
    "Space_size = 400\n",
    "Space = range(Space_size)\n",
    "# 模拟的时间步长\n",
    "Time_steps = 300000\n",
    "# 场的各项参数\n",
    "imp0 = ti.field(ti.f32, shape=Space_size)\n",
    "# 定义电场\n",
    "Electric_field_z = ti.field(ti.f32, shape=Space_size)\n",
    "# 定义磁场\n",
    "Magnetic_field_z = ti.field(ti.f32, shape=Space_size)"
   ],
   "metadata": {
    "collapsed": false,
    "pycharm": {
     "name": "#%%\n"
    }
   }
  },
  {
   "cell_type": "code",
   "execution_count": 5,
   "outputs": [],
   "source": [
    "#电磁学常数生成\n",
    "@ti.kernel\n",
    "def Initialize_imp0():\n",
    "    for i in imp0:\n",
    "        imp0[i] = ti.sin(i/100)# ti.random(dtype=ti.f32)"
   ],
   "metadata": {
    "collapsed": false,
    "pycharm": {
     "name": "#%%\n"
    }
   }
  },
  {
   "cell_type": "code",
   "execution_count": 6,
   "outputs": [],
   "source": [
    "# 定义电场和磁场更新函数\n",
    "# 电场更新函数\n",
    "@ti.func\n",
    "def Electric_renew():\n",
    "    for i in range(1,Space_size):\n",
    "        Electric_field_z[i] = Electric_field_z[i] + (Magnetic_field_z[i] - Magnetic_field_z[i-1])*imp0[i]\n",
    "\n",
    "# 磁场更新函数\n",
    "@ti.func\n",
    "def Magnetic_renew():\n",
    "    for i in range(0,Space_size-1):\n",
    "        Magnetic_field_z[i] = Magnetic_field_z[i] + (Electric_field_z[i+1] - Electric_field_z[i])/imp0[i]\n",
    "\n",
    "# 硬源\n",
    "@ti.func\n",
    "def Electric_source(t_step: ti.f32):#t_step是时间步\n",
    "    Electric_field_z[0] = ti.exp(-(t_step-30.0)**2/100.0)\n",
    "\n",
    "#总更新函数\n",
    "@ti.kernel\n",
    "def Electric_magnetic_renew(time_step: ti.f32):\n",
    "    Magnetic_renew()\n",
    "    Electric_renew()\n",
    "    Electric_source(t_step=time_step)"
   ],
   "metadata": {
    "collapsed": false,
    "pycharm": {
     "name": "#%%\n"
    }
   }
  },
  {
   "cell_type": "code",
   "execution_count": 7,
   "outputs": [],
   "source": [
    "Initialize_imp0()\n",
    "imp0_np = imp0.to_numpy()"
   ],
   "metadata": {
    "collapsed": false,
    "pycharm": {
     "name": "#%%\n"
    }
   }
  },
  {
   "cell_type": "code",
   "execution_count": 8,
   "outputs": [
    {
     "name": "stderr",
     "output_type": "stream",
     "text": [
      "\n",
      "KeyboardInterrupt\n",
      "\n"
     ]
    },
    {
     "data": {
      "text/plain": "<Figure size 432x288 with 3 Axes>",
      "image/png": "[encoded data removed]"
     },
     "metadata": {
      "needs_background": "light"
     },
     "output_type": "display_data"
    }
   ],
   "source": [
    "for time_step_num in range(Time_steps):\n",
    "    Electric_magnetic_renew(time_step=time_step_num)\n",
    "    Magnetic_output = Magnetic_field_z.to_numpy()\n",
    "    Electric_output = Electric_field_z.to_numpy()\n",
    "    #清除刷新前的图表，防止数据量过大消耗内存\n",
    "    plt.clf()\n",
    "    # 添加总标题，并设置文字大小\n",
    "    plt.suptitle(\"Time Step {:.0f}\".format(time_step_num),fontsize=30)\n",
    "    Graphic_one = plt.subplot(3,1,1)\n",
    "    Graphic_one.set_ylabel(\"Electric Field\",fontsize=20)\n",
    "    # Graphic_one.set_xlabel('Space',fontsize=15)\n",
    "    plt.plot(Space, Electric_output)\n",
    "    Graphic_two = plt.subplot(3,1,2)\n",
    "    Graphic_two.set_ylabel('Magnetic Field',fontsize=20)\n",
    "    # Graphic_two.set_xlabel('Space',fontsize=15)\n",
    "    plt.plot(Space, Magnetic_output)\n",
    "    Graphic_three = plt.subplot(3,1,3)\n",
    "    Graphic_three.set_ylabel('Imp',fontsize=20)\n",
    "    # Graphic_three.set_xlabel('Space',fontsize=15)\n",
    "    plt.plot(Space, imp0_np)\n",
    "    # plt.pause(0.1)"
   ],
   "metadata": {
    "collapsed": false,
    "pycharm": {
     "name": "#%%\n"
    }
   }
  },
  {
   "cell_type": "code",
   "execution_count": null,
   "outputs": [],
   "source": [],
   "metadata": {
    "collapsed": false,
    "pycharm": {
     "name": "#%%\n"
    }
   }
  }
 ],
 "metadata": {
  "kernelspec": {
   "display_name": "Python 3",
   "language": "python",
   "name": "python3"
  },
  "language_info": {
   "codemirror_mode": {
    "name": "ipython",
    "version": 2
   },
   "file_extension": ".py",
   "mimetype": "text/x-python",
   "name": "python",
   "nbconvert_exporter": "python",
   "pygments_lexer": "ipython2",
   "version": "2.7.6"
  }
 },
 "nbformat": 4,
 "nbformat_minor": 0
}